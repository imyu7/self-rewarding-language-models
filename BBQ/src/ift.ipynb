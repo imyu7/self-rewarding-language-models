{
 "cells": [
  {
   "cell_type": "code",
   "execution_count": 5,
   "metadata": {},
   "outputs": [],
   "source": [
    "import pandas as pd\n",
    "# from ... import utils\n",
    "import re\n",
    "from openai import OpenAI\n",
    "from dotenv import load_dotenv"
   ]
  },
  {
   "cell_type": "code",
   "execution_count": 7,
   "metadata": {},
   "outputs": [],
   "source": [
    "load_dotenv()\n",
    "client = OpenAI()"
   ]
  },
  {
   "cell_type": "code",
   "execution_count": 8,
   "metadata": {},
   "outputs": [
    {
     "data": {
      "text/plain": [
       "FileObject(id='file-nY8JXPrc01EtftYNOGQfNfQt', bytes=18001, created_at=1716909846, filename='ift_by_gpt-4o-2024-05-13.jsonl', object='file', purpose='fine-tune', status='processed', status_details=None)"
      ]
     },
     "execution_count": 8,
     "metadata": {},
     "output_type": "execute_result"
    }
   ],
   "source": [
    "client.files.create(\n",
    "  file=open(\"../data/ift_by_gpt-4o-2024-05-13.jsonl\", \"rb\"),\n",
    "  purpose=\"fine-tune\"\n",
    ")"
   ]
  },
  {
   "cell_type": "code",
   "execution_count": 14,
   "metadata": {},
   "outputs": [
    {
     "data": {
      "text/plain": [
       "FineTuningJob(id='ftjob-Jaoa9KH07W31lzP8kdFpfHkj', created_at=1716910233, error=Error(code=None, message=None, param=None), fine_tuned_model=None, finished_at=None, hyperparameters=Hyperparameters(n_epochs='auto', batch_size='auto', learning_rate_multiplier='auto'), model='gpt-3.5-turbo-0125', object='fine_tuning.job', organization_id='org-7BaS9rClZ5Uo8pB3bH7M7xvs', result_files=[], seed=1805007941, status='validating_files', trained_tokens=None, training_file='file-nY8JXPrc01EtftYNOGQfNfQt', validation_file=None, estimated_finish=None, integrations=[], user_provided_suffix=None)"
      ]
     },
     "execution_count": 14,
     "metadata": {},
     "output_type": "execute_result"
    }
   ],
   "source": [
    "client.fine_tuning.jobs.create(\n",
    "  training_file=\"file-nY8JXPrc01EtftYNOGQfNfQt\", \n",
    "  model=\"gpt-3.5-turbo-0125\"\n",
    ")"
   ]
  },
  {
   "cell_type": "code",
   "execution_count": 21,
   "metadata": {},
   "outputs": [
    {
     "data": {
      "text/plain": [
       "FineTuningJob(id='ftjob-Jaoa9KH07W31lzP8kdFpfHkj', created_at=1716910233, error=Error(code=None, message=None, param=None), fine_tuned_model='ft:gpt-3.5-turbo-0125:matsuo-lab-geniac::9Tt9JyCI', finished_at=1716910531, hyperparameters=Hyperparameters(n_epochs=10, batch_size=1, learning_rate_multiplier=2), model='gpt-3.5-turbo-0125', object='fine_tuning.job', organization_id='org-7BaS9rClZ5Uo8pB3bH7M7xvs', result_files=['file-Ics8pzf9oDvwA9HGQcaUFjYD'], seed=1805007941, status='succeeded', trained_tokens=35150, training_file='file-nY8JXPrc01EtftYNOGQfNfQt', validation_file=None, estimated_finish=None, integrations=[], user_provided_suffix=None)"
      ]
     },
     "execution_count": 21,
     "metadata": {},
     "output_type": "execute_result"
    }
   ],
   "source": [
    "client.fine_tuning.jobs.retrieve(\"ftjob-Jaoa9KH07W31lzP8kdFpfHkj\")"
   ]
  },
  {
   "cell_type": "code",
   "execution_count": 17,
   "metadata": {},
   "outputs": [
    {
     "data": {
      "text/plain": [
       "FineTuningJob(id='ftjob-xMKHmfYCsVc41kKfRWUUZrvd', created_at=1716910433, error=Error(code=None, message=None, param=None), fine_tuned_model=None, finished_at=None, hyperparameters=Hyperparameters(n_epochs=1, batch_size='auto', learning_rate_multiplier='auto'), model='gpt-3.5-turbo-0125', object='fine_tuning.job', organization_id='org-7BaS9rClZ5Uo8pB3bH7M7xvs', result_files=[], seed=1940154160, status='validating_files', trained_tokens=None, training_file='file-nY8JXPrc01EtftYNOGQfNfQt', validation_file=None, estimated_finish=None, integrations=[], user_provided_suffix=None)"
      ]
     },
     "execution_count": 17,
     "metadata": {},
     "output_type": "execute_result"
    }
   ],
   "source": [
    "client.fine_tuning.jobs.create(\n",
    "  training_file=\"file-nY8JXPrc01EtftYNOGQfNfQt\", \n",
    "  model=\"gpt-3.5-turbo-0125\",\n",
    "  hyperparameters={\"n_epochs\": 1}\n",
    ")"
   ]
  },
  {
   "cell_type": "code",
   "execution_count": 22,
   "metadata": {},
   "outputs": [
    {
     "data": {
      "text/plain": [
       "FineTuningJob(id='ftjob-xMKHmfYCsVc41kKfRWUUZrvd', created_at=1716910433, error=Error(code=None, message=None, param=None), fine_tuned_model='ft:gpt-3.5-turbo-0125:matsuo-lab-geniac::9Tt9p5ou', finished_at=1716910564, hyperparameters=Hyperparameters(n_epochs=1, batch_size=1, learning_rate_multiplier=2), model='gpt-3.5-turbo-0125', object='fine_tuning.job', organization_id='org-7BaS9rClZ5Uo8pB3bH7M7xvs', result_files=['file-AJnRdLuV7KLlbIPX7wAllWvM'], seed=1940154160, status='succeeded', trained_tokens=3515, training_file='file-nY8JXPrc01EtftYNOGQfNfQt', validation_file=None, estimated_finish=None, integrations=[], user_provided_suffix=None)"
      ]
     },
     "execution_count": 22,
     "metadata": {},
     "output_type": "execute_result"
    }
   ],
   "source": [
    "client.fine_tuning.jobs.retrieve(\"ftjob-xMKHmfYCsVc41kKfRWUUZrvd\")"
   ]
  },
  {
   "cell_type": "code",
   "execution_count": 23,
   "metadata": {},
   "outputs": [
    {
     "data": {
      "text/plain": [
       "FineTuningJob(id='ftjob-ABxvo6EpSA97bdlMjkvran9r', created_at=1716913115, error=Error(code=None, message=None, param=None), fine_tuned_model=None, finished_at=None, hyperparameters=Hyperparameters(n_epochs=3, batch_size='auto', learning_rate_multiplier='auto'), model='gpt-3.5-turbo-0125', object='fine_tuning.job', organization_id='org-7BaS9rClZ5Uo8pB3bH7M7xvs', result_files=[], seed=316238654, status='validating_files', trained_tokens=None, training_file='file-nY8JXPrc01EtftYNOGQfNfQt', validation_file=None, estimated_finish=None, integrations=[], user_provided_suffix=None)"
      ]
     },
     "execution_count": 23,
     "metadata": {},
     "output_type": "execute_result"
    }
   ],
   "source": [
    "client.fine_tuning.jobs.create(\n",
    "  training_file=\"file-nY8JXPrc01EtftYNOGQfNfQt\", \n",
    "  model=\"gpt-3.5-turbo-0125\",\n",
    "  hyperparameters={\"n_epochs\": 3}\n",
    ")"
   ]
  },
  {
   "cell_type": "code",
   "execution_count": 24,
   "metadata": {},
   "outputs": [
    {
     "data": {
      "text/plain": [
       "FineTuningJob(id='ftjob-ABxvo6EpSA97bdlMjkvran9r', created_at=1716913115, error=Error(code=None, message=None, param=None), fine_tuned_model='ft:gpt-3.5-turbo-0125:matsuo-lab-geniac::9Ttres5B', finished_at=1716913280, hyperparameters=Hyperparameters(n_epochs=3, batch_size=1, learning_rate_multiplier=2), model='gpt-3.5-turbo-0125', object='fine_tuning.job', organization_id='org-7BaS9rClZ5Uo8pB3bH7M7xvs', result_files=['file-nTs5NNF5sbB59t2Walv8E6XX'], seed=316238654, status='succeeded', trained_tokens=10545, training_file='file-nY8JXPrc01EtftYNOGQfNfQt', validation_file=None, estimated_finish=None, integrations=[], user_provided_suffix=None)"
      ]
     },
     "execution_count": 24,
     "metadata": {},
     "output_type": "execute_result"
    }
   ],
   "source": [
    "client.fine_tuning.jobs.retrieve(\"ftjob-ABxvo6EpSA97bdlMjkvran9r\")"
   ]
  },
  {
   "cell_type": "code",
   "execution_count": null,
   "metadata": {},
   "outputs": [],
   "source": []
  }
 ],
 "metadata": {
  "kernelspec": {
   "display_name": "selfr",
   "language": "python",
   "name": "python3"
  },
  "language_info": {
   "codemirror_mode": {
    "name": "ipython",
    "version": 3
   },
   "file_extension": ".py",
   "mimetype": "text/x-python",
   "name": "python",
   "nbconvert_exporter": "python",
   "pygments_lexer": "ipython3",
   "version": "3.11.9"
  }
 },
 "nbformat": 4,
 "nbformat_minor": 2
}
